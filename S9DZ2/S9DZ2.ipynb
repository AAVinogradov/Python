{
 "cells": [
  {
   "cell_type": "markdown",
   "metadata": {},
   "source": [
    "<!-- Дан файл california_housing_train.csv.\n",
    "Найти максимальное значение переменной \"households\" в зоне минимального значения переменной \"population\" и сохраните это значение в переменную max_households_in_min_population.\n",
    "Используйте модуль pandas. -->"
   ]
  },
  {
   "cell_type": "markdown",
   "metadata": {},
   "source": [
    "Дан файл california_housing_train.csv.\n",
    "Найти максимальное значение переменной \"households\" в зоне минимального значения переменной \"population\" и сохраните это значение в переменную max_households_in_min_population.\n",
    "Используйте модуль pandas."
   ]
  },
  {
   "cell_type": "markdown",
   "metadata": {},
   "source": [
    "<!-- Дан файл california_housing_train.csv.\n",
    "Найти максимальное значение переменной \"households\" в зоне минимального значения переменной \"population\" и сохраните это значение в переменную max_households_in_min_population.\n",
    "Используйте модуль pandas. -->"
   ]
  },
  {
   "cell_type": "code",
   "execution_count": 1,
   "metadata": {},
   "outputs": [
    {
     "name": "stdout",
     "output_type": "stream",
     "text": [
      "4.0\n"
     ]
    }
   ],
   "source": [
    "import pandas as pd\n",
    "df = pd.read_csv('california_housing_train.csv')\n",
    "max_households_in_min_population = df[df['population'] == df['population'].min()]['households'].max()\n",
    "print(max_households_in_min_population)"
   ]
  }
 ],
 "metadata": {
  "kernelspec": {
   "display_name": "Python 3",
   "language": "python",
   "name": "python3"
  },
  "language_info": {
   "codemirror_mode": {
    "name": "ipython",
    "version": 3
   },
   "file_extension": ".py",
   "mimetype": "text/x-python",
   "name": "python",
   "nbconvert_exporter": "python",
   "pygments_lexer": "ipython3",
   "version": "3.11.4"
  }
 },
 "nbformat": 4,
 "nbformat_minor": 2
}
